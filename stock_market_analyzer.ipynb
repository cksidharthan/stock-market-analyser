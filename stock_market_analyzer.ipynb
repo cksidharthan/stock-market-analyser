{
 "cells": [
  {
   "cell_type": "code",
   "execution_count": 9,
   "metadata": {
    "colab": {
     "base_uri": "https://localhost:8080/",
     "height": 51
    },
    "colab_type": "code",
    "id": "X8iBRNYViimC",
    "outputId": "f6f4d507-fa4e-4413-9c39-e107ce8a671a"
   },
   "outputs": [
    {
     "name": "stderr",
     "output_type": "stream",
     "text": [
      "[nltk_data] Downloading package vader_lexicon to\n",
      "[nltk_data]     /home/cksidharthan/nltk_data...\n",
      "[nltk_data]   Package vader_lexicon is already up-to-date!\n"
     ]
    }
   ],
   "source": [
    "# libraries\n",
    "import numpy as np\n",
    "import pandas as pd\n",
    "from bs4 import BeautifulSoup\n",
    "import pycurl as pycurl\n",
    "from io import BytesIO\n",
    "import os\n",
    "from nltk.sentiment.vader import SentimentIntensityAnalyzer\n",
    "import nltk\n",
    "nltk.download('vader_lexicon')\n",
    "import matplotlib.pyplot as plt"
   ]
  },
  {
   "cell_type": "code",
   "execution_count": 10,
   "metadata": {
    "colab": {
     "base_uri": "https://localhost:8080/",
     "height": 34
    },
    "colab_type": "code",
    "id": "Ub11lu9Riima",
    "outputId": "c48e63d4-cbf3-4433-cbe9-323be396ed42"
   },
   "outputs": [
    {
     "name": "stdout",
     "output_type": "stream",
     "text": [
      "[Errno 17] File exists: './html_files'\n"
     ]
    }
   ],
   "source": [
    "# Create new folder\n",
    "try:  \n",
    "    os.mkdir('./html_files')  \n",
    "except OSError as error:  \n",
    "    print(error)  "
   ]
  },
  {
   "cell_type": "code",
   "execution_count": 11,
   "metadata": {
    "colab": {},
    "colab_type": "code",
    "id": "ojKr4tZOiimt"
   },
   "outputs": [],
   "source": [
    "# Delete all the files in the html_files folder\n",
    "file_path = './html_files/'\n",
    "file_list = os.listdir('./html_files')\n",
    "for file in file_list:\n",
    "    os.remove(file_path + file)"
   ]
  },
  {
   "cell_type": "code",
   "execution_count": 12,
   "metadata": {
    "colab": {
     "base_uri": "https://localhost:8080/",
     "height": 68
    },
    "colab_type": "code",
    "id": "427U4njfiim_",
    "outputId": "4a9f5061-0e27-411b-9d7d-48cf263f082e"
   },
   "outputs": [
    {
     "name": "stdout",
     "output_type": "stream",
     "text": [
      "Enter the Number of companies to analyse: 2\n",
      "Enter the Stock name of the company: AMZN\n",
      "Enter the Stock name of the company: AAPL\n"
     ]
    }
   ],
   "source": [
    "# Get values from Users\n",
    "company_list = []\n",
    "url_list = []\n",
    "finance_url = 'https://finviz.com/quote.ashx?t='\n",
    "num_companies = int(input('Enter the Number of companies to analyse: '))\n",
    "for company in range(num_companies):\n",
    "    company_stock_name = input('Enter the Stock name of the company: ')\n",
    "    company_list.append(company_stock_name.upper())\n",
    "    url_list.append(finance_url + company_stock_name)"
   ]
  },
  {
   "cell_type": "code",
   "execution_count": 13,
   "metadata": {
    "colab": {},
    "colab_type": "code",
    "id": "xHqpU-LfiinU"
   },
   "outputs": [],
   "source": [
    "# Website Downloader\n",
    "def url_downloader(url):\n",
    "    byte_obj = BytesIO() \n",
    "    curl = pycurl.Curl() \n",
    "    curl.setopt(curl.URL, url)\n",
    "    curl.setopt(curl.WRITEDATA, byte_obj)\n",
    "    curl.perform() \n",
    "    curl.close()\n",
    "    # Get the content stored in the BytesIO object (in byte characters) \n",
    "    get_body = byte_obj.getvalue()\n",
    "    # Decode the bytes stored in get_body to HTML and print the result \n",
    "    return get_body.decode('utf8')"
   ]
  },
  {
   "cell_type": "code",
   "execution_count": 14,
   "metadata": {
    "colab": {},
    "colab_type": "code",
    "id": "g9MYJz70iinj"
   },
   "outputs": [],
   "source": [
    "# Write website html to file\n",
    "def write_to_file(file_name, file_data):\n",
    "    f = open( file_path + file_name + '.html', 'w')\n",
    "    f.write(file_data)\n",
    "    f.close()"
   ]
  },
  {
   "cell_type": "code",
   "execution_count": 15,
   "metadata": {
    "colab": {},
    "colab_type": "code",
    "id": "pxbscG_piins"
   },
   "outputs": [],
   "source": [
    "# Iterate over company list and download the website html\n",
    "for company_index in range(num_companies):\n",
    "    try:\n",
    "        website_cache = url_downloader(url_list[company_index])\n",
    "        write_to_file(company_list[company_index], website_cache)\n",
    "    except:\n",
    "        raise Exception('Website not found')"
   ]
  },
  {
   "cell_type": "code",
   "execution_count": 16,
   "metadata": {
    "colab": {},
    "colab_type": "code",
    "id": "nGTIGJ8biin1"
   },
   "outputs": [],
   "source": [
    "# read files from html_files folder\n",
    "# data dictionary\n",
    "html_pages = {}\n",
    "\n",
    "for page_name in os.listdir('./html_files'):\n",
    "    page_path = f'./html_files/{page_name}'\n",
    "    page_file = open(page_path, 'r')\n",
    "    html_data = BeautifulSoup(page_file)\n",
    "    html_page = html_data.find(id = 'news-table')\n",
    "    html_pages[page_name] = html_page"
   ]
  },
  {
   "cell_type": "code",
   "execution_count": 17,
   "metadata": {
    "colab": {},
    "colab_type": "code",
    "id": "9XDtrYhgiin9"
   },
   "outputs": [],
   "source": [
    "# Get Hyperlinks and headlines \n",
    "def get_hyperlinks_headlines(company_name, company_data):\n",
    "    data_list = []\n",
    "    tr_data = company_data.findAll('tr')\n",
    "    for index, tr in enumerate(tr_data):\n",
    "        data = []\n",
    "        headlines = tr.a.get_text().strip()\n",
    "        date_td = tr.td.get_text().strip()\n",
    "        if (len(date_td.split(' ')) > 1):\n",
    "            date = date_td.split(' ')[0]\n",
    "            time = date_td.split(' ')[1]\n",
    "        else:\n",
    "            time = date_td\n",
    "        data.append(company_name.split('.')[0])\n",
    "        data.append(headlines)\n",
    "        data.append(date)\n",
    "        data.append(time)\n",
    "        data_list.append(data)\n",
    "    return data_list"
   ]
  },
  {
   "cell_type": "code",
   "execution_count": 18,
   "metadata": {
    "colab": {},
    "colab_type": "code",
    "id": "YmupbU0KiioG"
   },
   "outputs": [],
   "source": [
    "total_company_data = []\n",
    "for page_name, news_table in html_pages.items():\n",
    "    total_company_data += get_hyperlinks_headlines(page_name, html_pages[page_name])"
   ]
  },
  {
   "cell_type": "code",
   "execution_count": 19,
   "metadata": {
    "colab": {},
    "colab_type": "code",
    "id": "cc2bXEPMiioO"
   },
   "outputs": [],
   "source": [
    "columns = ['stock_name', 'headlines', 'date', 'time']\n",
    "total_company_data_frame = pd.DataFrame(total_company_data, columns = columns)\n",
    "total_company_data_frame['date'] = pd.to_datetime(total_company_data_frame.date).dt.date"
   ]
  },
  {
   "cell_type": "code",
   "execution_count": 20,
   "metadata": {
    "colab": {},
    "colab_type": "code",
    "id": "dZTQ7ghglY2R"
   },
   "outputs": [],
   "source": [
    "#Add new words to the lexicon library - for stock market analysis\n",
    "\n",
    "new_words = {\n",
    "    'crushes': 10,\n",
    "    'beats': 5,\n",
    "    'misses': -5,\n",
    "    'trouble': -10,\n",
    "    'falls': -100,\n",
    "    'overpriced': -50,\n",
    "    'overvalued': -60,\n",
    "    'garbage': -80\n",
    "}\n",
    "\n",
    "analyser = SentimentIntensityAnalyzer()\n",
    "\n",
    "analyser.lexicon.update(new_words)"
   ]
  },
  {
   "cell_type": "code",
   "execution_count": 21,
   "metadata": {
    "colab": {},
    "colab_type": "code",
    "id": "Dxm_Dj75l5Tz"
   },
   "outputs": [],
   "source": [
    "def get_sentiment_scores():\n",
    "    polarity_data = []\n",
    "    for data in total_company_data_frame.values:\n",
    "        polarity_data.append(analyser.polarity_scores(data[1]))\n",
    "    return polarity_data"
   ]
  },
  {
   "cell_type": "code",
   "execution_count": 22,
   "metadata": {
    "colab": {},
    "colab_type": "code",
    "id": "tothW-wqkmbr"
   },
   "outputs": [],
   "source": [
    "sentiment_scores = get_sentiment_scores()\n",
    "sentiment_scores_data_frame = pd.DataFrame(sentiment_scores)\n",
    "total_company_data_frame = pd.concat([total_company_data_frame, sentiment_scores_data_frame], axis = 1)"
   ]
  },
  {
   "cell_type": "code",
   "execution_count": 23,
   "metadata": {
    "colab": {
     "base_uri": "https://localhost:8080/",
     "height": 344
    },
    "colab_type": "code",
    "id": "7u8th9Tpiiod",
    "outputId": "acb609cc-1d6f-4a31-d866-f4b3e40e6c5b"
   },
   "outputs": [
    {
     "data": {
      "text/plain": [
       "<matplotlib.axes._subplots.AxesSubplot at 0x7fcf1123dbb0>"
      ]
     },
     "execution_count": 23,
     "metadata": {},
     "output_type": "execute_result"
    },
    {
     "data": {
      "image/png": "[encoded data removed]",
      "text/plain": [
       "<Figure size 432x288 with 1 Axes>"
      ]
     },
     "metadata": {
      "needs_background": "light"
     },
     "output_type": "display_data"
    }
   ],
   "source": [
    "plt.style.use('seaborn-pastel')\n",
    "%matplotlib inline\n",
    "\n",
    "mean_data = total_company_data_frame.groupby(['date', 'stock_name']).mean()\n",
    "mean_data = mean_data.unstack(level=1)\n",
    "mean_data = mean_data.xs('compound', axis=1)\n",
    "mean_data.plot.bar()"
   ]
  },
  {
   "cell_type": "code",
   "execution_count": 24,
   "metadata": {
    "colab": {},
    "colab_type": "code",
    "id": "38S8wh7On1r-"
   },
   "outputs": [],
   "source": [
    "# Clean duplicates in headlines\n",
    "dirty_headlines = total_company_data_frame.headlines.count()\n",
    "cleaned_headlines = total_company_data_frame.drop_duplicates(['stock_name', 'headlines'])"
   ]
  },
  {
   "cell_type": "code",
   "execution_count": 25,
   "metadata": {
    "colab": {
     "base_uri": "https://localhost:8080/",
     "height": 119
    },
    "colab_type": "code",
    "id": "AqUsC-BFpVZh",
    "outputId": "abba8b4f-c9ee-45fb-a3f5-ea7c2cd580ae"
   },
   "outputs": [
    {
     "name": "stdout",
     "output_type": "stream",
     "text": [
      "Enter the name of the company you want to analyse\n",
      "Allowed Values: \n",
      "AMZN\n",
      "AAPL\n",
      "Enter your option AAPL\n",
      "Enter the date to analyse - (YYYY-MM-DD) 2020-05-15\n"
     ]
    }
   ],
   "source": [
    "print('Enter the name of the company you want to analyse')\n",
    "print ('Allowed Values: ')\n",
    "for index in range(num_companies):\n",
    "    print(company_list[index])\n",
    "company = input(\"Enter your option \")\n",
    "date_to_analyse = input(\"Enter the date to analyse - (YYYY-MM-DD) \")"
   ]
  },
  {
   "cell_type": "code",
   "execution_count": 26,
   "metadata": {
    "colab": {
     "base_uri": "https://localhost:8080/",
     "height": 235
    },
    "colab_type": "code",
    "id": "9i6IPNvdo2J4",
    "outputId": "ab063aa1-108f-4079-bf72-513603656e0d"
   },
   "outputs": [
    {
     "data": {
      "text/html": [
       "<div>\n",
       "<style scoped>\n",
       "    .dataframe tbody tr th:only-of-type {\n",
       "        vertical-align: middle;\n",
       "    }\n",
       "\n",
       "    .dataframe tbody tr th {\n",
       "        vertical-align: top;\n",
       "    }\n",
       "\n",
       "    .dataframe thead th {\n",
       "        text-align: right;\n",
       "    }\n",
       "</style>\n",
       "<table border=\"1\" class=\"dataframe\">\n",
       "  <thead>\n",
       "    <tr style=\"text-align: right;\">\n",
       "      <th></th>\n",
       "      <th>headlines</th>\n",
       "      <th>neg</th>\n",
       "      <th>neu</th>\n",
       "      <th>pos</th>\n",
       "      <th>compound</th>\n",
       "    </tr>\n",
       "    <tr>\n",
       "      <th>time</th>\n",
       "      <th></th>\n",
       "      <th></th>\n",
       "      <th></th>\n",
       "      <th></th>\n",
       "      <th></th>\n",
       "    </tr>\n",
       "  </thead>\n",
       "  <tbody>\n",
       "    <tr>\n",
       "      <th>00:00:00</th>\n",
       "      <td>Apple Confirms Acquisition Of Virtual Reality ...</td>\n",
       "      <td>0.0</td>\n",
       "      <td>1.000</td>\n",
       "      <td>0.000</td>\n",
       "      <td>0.0000</td>\n",
       "    </tr>\n",
       "    <tr>\n",
       "      <th>00:46:00</th>\n",
       "      <td>Pompeo says TSMC's $12 bln investment to incre...</td>\n",
       "      <td>0.0</td>\n",
       "      <td>0.839</td>\n",
       "      <td>0.161</td>\n",
       "      <td>0.3182</td>\n",
       "    </tr>\n",
       "    <tr>\n",
       "      <th>01:28:00</th>\n",
       "      <td>TSMC Plans $12 Billion U.S. Chip Plant in Vict...</td>\n",
       "      <td>0.0</td>\n",
       "      <td>1.000</td>\n",
       "      <td>0.000</td>\n",
       "      <td>0.0000</td>\n",
       "    </tr>\n",
       "    <tr>\n",
       "      <th>02:19:00</th>\n",
       "      <td>Foxconn's Q1 profit tumbles almost 90% on coro...</td>\n",
       "      <td>0.0</td>\n",
       "      <td>0.734</td>\n",
       "      <td>0.266</td>\n",
       "      <td>0.4404</td>\n",
       "    </tr>\n",
       "    <tr>\n",
       "      <th>05:28:00</th>\n",
       "      <td>IPhone Maker Foxconns Profit Gutted by Smartph...</td>\n",
       "      <td>0.0</td>\n",
       "      <td>0.707</td>\n",
       "      <td>0.293</td>\n",
       "      <td>0.4404</td>\n",
       "    </tr>\n",
       "  </tbody>\n",
       "</table>\n",
       "</div>"
      ],
      "text/plain": [
       "                                                  headlines  neg    neu  \\\n",
       "time                                                                      \n",
       "00:00:00  Apple Confirms Acquisition Of Virtual Reality ...  0.0  1.000   \n",
       "00:46:00  Pompeo says TSMC's $12 bln investment to incre...  0.0  0.839   \n",
       "01:28:00  TSMC Plans $12 Billion U.S. Chip Plant in Vict...  0.0  1.000   \n",
       "02:19:00  Foxconn's Q1 profit tumbles almost 90% on coro...  0.0  0.734   \n",
       "05:28:00  IPhone Maker Foxconns Profit Gutted by Smartph...  0.0  0.707   \n",
       "\n",
       "            pos  compound  \n",
       "time                       \n",
       "00:00:00  0.000    0.0000  \n",
       "00:46:00  0.161    0.3182  \n",
       "01:28:00  0.000    0.0000  \n",
       "02:19:00  0.266    0.4404  \n",
       "05:28:00  0.293    0.4404  "
      ]
     },
     "execution_count": 26,
     "metadata": {},
     "output_type": "execute_result"
    }
   ],
   "source": [
    "# Get data for single day of a stock to analyse the trend\n",
    "single_day_data = cleaned_headlines.set_index(['stock_name', 'date'])\n",
    "single_day_data = single_day_data.loc[company]\n",
    "\n",
    "# Set day to January of 2019\n",
    "single_day_data = single_day_data.loc[date_to_analyse]\n",
    "\n",
    "# Convert the datetime string to just the time since it is just one day.\n",
    "single_day_data['time'] = pd.to_datetime(single_day_data['time'])\n",
    "single_day_data['time'] = single_day_data.time.dt.time\n",
    "single_day_data\n",
    "# Set the index to time and sort by it\n",
    "single_day_data.set_index('time', inplace=True)\n",
    "single_day_data = single_day_data.sort_index(ascending=True)\n",
    "single_day_data.head()"
   ]
  },
  {
   "cell_type": "code",
   "execution_count": 27,
   "metadata": {
    "colab": {
     "base_uri": "https://localhost:8080/",
     "height": 439
    },
    "colab_type": "code",
    "id": "uVol-im71aFO",
    "outputId": "108be472-3fac-4407-82e8-47ac208e79a9"
   },
   "outputs": [
    {
     "data": {
      "image/png": "[encoded data removed]",
      "text/plain": [
       "<Figure size 720x432 with 1 Axes>"
      ]
     },
     "metadata": {
      "needs_background": "light"
     },
     "output_type": "display_data"
    }
   ],
   "source": [
    "# Plot the sentiment scores\n",
    "# Drop the columns which are useless\n",
    "plot_day = single_day_data.drop(['headlines', 'compound'], axis=1)\n",
    "# Give names to the sentiments\n",
    "plot_day.columns = ['negative', 'positive', 'neutral']\n",
    "# Plot a stacked bar chart\n",
    "plot_day.plot.bar(stacked = True, \n",
    "                  figsize=(10, 6), \n",
    "                  title = 'Sentiment Analysis for ' + company + ' on ' + date_to_analyse, \n",
    "                  color = [\"red\", \"blue\", \"green\"])\n",
    "plt.legend(bbox_to_anchor=(1.2, 0.5))\n",
    "plt.ylabel(\"scores\");"
   ]
  }
 ],
 "metadata": {
  "colab": {
   "collapsed_sections": [],
   "name": "Copy of stock_market_analyzer.ipynb",
   "provenance": []
  },
  "kernelspec": {
   "display_name": "Python 3",
   "language": "python",
   "name": "python3"
  },
  "language_info": {
   "codemirror_mode": {
    "name": "ipython",
    "version": 3
   },
   "file_extension": ".py",
   "mimetype": "text/x-python",
   "name": "python",
   "nbconvert_exporter": "python",
   "pygments_lexer": "ipython3",
   "version": "3.8.2"
  }
 },
 "nbformat": 4,
 "nbformat_minor": 1
}
