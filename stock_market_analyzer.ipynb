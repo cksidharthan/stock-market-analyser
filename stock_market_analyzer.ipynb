{
 "cells": [
  {
   "cell_type": "code",
   "execution_count": 135,
   "metadata": {},
   "outputs": [
    {
     "name": "stderr",
     "output_type": "stream",
     "text": [
      "[nltk_data] Downloading package vader_lexicon to\n",
      "[nltk_data]     /home/cksidharthan/nltk_data...\n",
      "[nltk_data]   Package vader_lexicon is already up-to-date!\n"
     ]
    }
   ],
   "source": [
    "# libraries\n",
    "import numpy as np\n",
    "import pandas as pd\n",
    "from bs4 import BeautifulSoup\n",
    "import pycurl as pycurl\n",
    "from io import BytesIO\n",
    "import os\n",
    "from nltk.sentiment.vader import SentimentIntensityAnalyzer\n",
    "import nltk\n",
    "nltk.download('vader_lexicon')\n",
    "import matplotlib.pyplot as plt"
   ]
  },
  {
   "cell_type": "code",
   "execution_count": 2,
   "metadata": {},
   "outputs": [
    {
     "name": "stdout",
     "output_type": "stream",
     "text": [
      "[Errno 17] File exists: './html_files'\n"
     ]
    }
   ],
   "source": [
    "# Create new folder\n",
    "try:  \n",
    "    os.mkdir('./html_files')  \n",
    "except OSError as error:  \n",
    "    print(error)  "
   ]
  },
  {
   "cell_type": "code",
   "execution_count": 3,
   "metadata": {},
   "outputs": [],
   "source": [
    "# Delete all the files in the html_files folder\n",
    "file_path = './html_files/'\n",
    "file_list = os.listdir('./html_files')\n",
    "for file in file_list:\n",
    "    os.remove(file_path + file)"
   ]
  },
  {
   "cell_type": "code",
   "execution_count": 4,
   "metadata": {},
   "outputs": [
    {
     "name": "stdout",
     "output_type": "stream",
     "text": [
      "Enter the Number of companies to analyse: 2\n",
      "Enter the Stock name of the company: AAPL\n",
      "Enter the Stock name of the company: AMZN\n"
     ]
    }
   ],
   "source": [
    "# Get values from Users\n",
    "company_list = []\n",
    "url_list = []\n",
    "finance_url = 'https://finviz.com/quote.ashx?t='\n",
    "num_companies = int(input('Enter the Number of companies to analyse: '))\n",
    "for company in range(num_companies):\n",
    "    company_stock_name = input('Enter the Stock name of the company: ')\n",
    "    company_list.append(company_stock_name.upper())\n",
    "    url_list.append(finance_url + company_stock_name)"
   ]
  },
  {
   "cell_type": "code",
   "execution_count": 5,
   "metadata": {},
   "outputs": [],
   "source": [
    "# Website Downloader\n",
    "def url_downloader(url):\n",
    "    byte_obj = BytesIO() \n",
    "    curl = pycurl.Curl() \n",
    "    curl.setopt(curl.URL, url)\n",
    "    curl.setopt(curl.WRITEDATA, byte_obj)\n",
    "    curl.perform() \n",
    "    curl.close()\n",
    "    # Get the content stored in the BytesIO object (in byte characters) \n",
    "    get_body = byte_obj.getvalue()\n",
    "    # Decode the bytes stored in get_body to HTML and print the result \n",
    "    return get_body.decode('utf8')"
   ]
  },
  {
   "cell_type": "code",
   "execution_count": 6,
   "metadata": {},
   "outputs": [],
   "source": [
    "# Write website html to file\n",
    "def write_to_file(file_name, file_data):\n",
    "    f = open( file_path + file_name + '.html', 'w')\n",
    "    f.write(file_data)\n",
    "    f.close()"
   ]
  },
  {
   "cell_type": "code",
   "execution_count": 7,
   "metadata": {},
   "outputs": [],
   "source": [
    "# Iterate over company list and download the website html\n",
    "for company_index in range(num_companies):\n",
    "    try:\n",
    "        website_cache = url_downloader(url_list[company_index])\n",
    "        write_to_file(company_list[company_index], website_cache)\n",
    "    except:\n",
    "        raise Exception('Website not found')"
   ]
  },
  {
   "cell_type": "code",
   "execution_count": 109,
   "metadata": {},
   "outputs": [],
   "source": [
    "# read files from html_files folder\n",
    "# data dictionary\n",
    "html_pages = {}\n",
    "\n",
    "for page_name in os.listdir('./html_files'):\n",
    "    page_path = f'./html_files/{page_name}'\n",
    "    page_file = open(page_path, 'r')\n",
    "    html_data = BeautifulSoup(page_file)\n",
    "    html_page = html_data.find(id = 'news-table')\n",
    "    html_pages[page_name] = html_page"
   ]
  },
  {
   "cell_type": "code",
   "execution_count": 127,
   "metadata": {},
   "outputs": [],
   "source": [
    "# Get Hyperlinks and headlines \n",
    "def get_hyperlinks_headlines(company_name, company_data):\n",
    "    data_list = []\n",
    "    tr_data = company_data.findAll('tr')\n",
    "    for index, tr in enumerate(tr_data):\n",
    "        data = []\n",
    "        headlines = tr.a.get_text().strip()\n",
    "        date_td = tr.td.get_text().strip()\n",
    "        if (len(date_td.split(' ')) > 1):\n",
    "            date = date_td.split(' ')[0]\n",
    "            time = date_td.split(' ')[1]\n",
    "        else:\n",
    "            time = date_td\n",
    "        data.append(company_name.split('.')[0])\n",
    "        data.append(headlines)\n",
    "        data.append(date)\n",
    "        data.append(time)\n",
    "        data_list.append(data)\n",
    "    return data_list"
   ]
  },
  {
   "cell_type": "code",
   "execution_count": 128,
   "metadata": {},
   "outputs": [
    {
     "name": "stdout",
     "output_type": "stream",
     "text": [
      "[['AMZN', 'Amazon to Open New Warehouse in New York, Hire 1,000 Workers', 'May-18-20', '05:36PM'], ['AMZN', 'Mario Gabelli Adds to Amazon Holding in 1st Quarter', 'May-18-20', '05:27PM'], ['AMZN', 'FedEx Pops On Alliance with Microsoft, In Challenge To Amazon', 'May-18-20', '04:10PM'], ['AMZN', 'Warren Buffett, Top Funds Dumped These Stocks But Key Buys Stand Out', 'May-18-20', '04:03PM'], ['AMZN', 'The best bet might be to stay on the sidelines, according to this chart of winners and losers in this pandemic', 'May-18-20', '03:57PM'], ['AMZN', 'Dow Jones News: Microsoft Partners With FedEx; Apple Stock Rises as Stores Slowly Reopen', 'May-18-20', '02:02PM'], ['AMZN', 'Microsoft Bets on Startups to Boost Growth', 'May-18-20', '01:52PM'], ['AMZN', 'CEO of North Face and Vans owner says he is hunting for deals', 'May-18-20', '01:21PM'], ['AMZN', 'Best Buy Jumps Almost 10% on Analyst Upgrade', 'May-18-20', '01:09PM'], ['AMZN', 'J.C. Penney bankruptcy aftermath: 700 very large stores may completely vanish', 'May-18-20', '12:52PM'], ['AMZN', 'Can Disney+ Attract Over 200 Million Subscribers by 2025?', 'May-18-20', '12:30PM'], ['AMZN', 'Better Buy: Etsy vs. Amazon', 'May-18-20', '12:30PM'], ['AMZN', \"The 1 Stock I'm Buying Regardless of How COVID-19 Evolves\", 'May-18-20', '12:00PM'], ['AMZN', 'EBAY vs. AMZN: Which Stock Is the Better Value Option?', 'May-18-20', '11:40AM'], ['AMZN', \"3 Funds Set to Gain From Big Tech's Internet Projects\", 'May-18-20', '11:13AM'], ['AMZN', \"Amazon's French warehouses to resume work with 30% of staff on Tuesday - unions\", 'May-18-20', '11:05AM'], ['AMZN', 'You Might Not Be Able to Stream HBO Max on Your Fire TV', 'May-18-20', '10:53AM'], ['AMZN', 'Warren Buffett Stocks Ranked: The Berkshire Hathaway Portfolio', 'May-18-20', '10:30AM'], ['AMZN', \"Amazon's (AMZN) New Fire HD 8 Family Expands Tablet Portfolio\", 'May-18-20', '10:09AM'], ['AMZN', 'American Express CEO to employees: Plan to work from home for the rest of 2020', 'May-18-20', '10:00AM'], ['AMZN', 'Stripe picks $1 mln in carbon-removal projects to spur industry', 'May-18-20', '10:00AM'], ['AMZN', 'The Zacks Analyst Blog Highlights: Alibaba, Amazon, Microsoft and Netflix', 'May-18-20', '09:59AM'], ['AMZN', 'The 3 Best Cloud Stocks Not Named Amazon or Microsoft', 'May-18-20', '09:24AM'], ['AMZN', 'Every Warren Buffett Stock Ranked: The Berkshire Hathaway Portfolio', 'May-18-20', '09:02AM'], ['AMZN', 'The 3 Best E-Commerce Stocks Not Named Amazon', 'May-18-20', '09:00AM'], ['AMZN', 'FedEx, Microsoft Join Forces Against Amazon for Package Shipping', 'May-18-20', '08:55AM'], ['AMZN', 'Already Soaring, This Online Retail ETF Has E-Commerce Trends In Its Favor', 'May-18-20', '08:27AM'], ['AMZN', 'FOCUS-Automated delivery cashes in on pandemic-driven demand', 'May-18-20', '07:00AM'], ['AMZN', '3 Michael Jordan-Endorsed Companies That Are Great Buys Even Today', 'May-17-20', '04:44PM'], ['AMZN', 'Our New Stay-at-Home Habits May Stick Around', 'May-17-20', '01:00PM'], ['AMZN', 'Why Youre Smart to Buy Pinterest', 'May-17-20', '12:50PM'], ['AMZN', \"Are Stitch Fix's Sales Secretly Soaring?\", 'May-17-20', '11:04AM'], ['AMZN', 'The 3 Top Consumer Discretionary Stocks to Buy Now', 'May-17-20', '10:38AM'], ['AMZN', 'Apple TV+ Is Getting a Quarantine Boost', 'May-17-20', '09:46AM'], ['AMZN', 'Better Buy: Amazon vs. Ulta', 'May-17-20', '09:03AM'], ['AMZN', 'Amazons Response To Judiciary Committee Unacceptable Tweets Jerry Nadler', 'May-17-20', '08:58AM'], ['AMZN', 'These Are the 5 Best Warren Buffett Stocks You Can Buy Right Now', 'May-17-20', '07:32AM'], ['AMZN', '$3,000 Invested in These 3 Industries Could Make You a Fortune Over the Next 10 Years', 'May-17-20', '07:04AM'], ['AMZN', 'Economic Calendar - Top 5 Things to Watch This Week', 'May-17-20', '02:35AM'], ['AMZN', \"The Coronavirus Isn't the End of Your Career\", 'May-16-20', '08:00PM'], ['AMZN', 'If you could buy only one stock ETF, this would be it  and it doesnt track the S&P 500', 'May-16-20', '03:14PM'], ['AMZN', 'How the coronavirus recession has rewritten the traditional bear-market playbook', 'May-16-20', '02:32PM'], ['AMZN', 'Whats happened to value stocks?', 'May-16-20', '01:47PM'], ['AMZN', '3 Reasons Target Is a Buy', 'May-16-20', '01:45PM'], ['AMZN', \"What Disney's $75 million bet on 'Hamilton' means for streaming wars\", 'May-16-20', '01:27PM'], ['AMZN', \"Why Amazon's E-Commerce Sales Are About to Surge Even Higher\", 'May-16-20', '01:00PM'], ['AMZN', 'Amazon Promises to Work With Congress But Not Offering Bezos', 'May-16-20', '12:33PM'], ['AMZN', 'Walmart Earnings: What to Watch', 'May-16-20', '12:25PM'], ['AMZN', 'Luckin Coffee shows how risky Chinese IPOs can be, but investors are just not listening', 'May-16-20', '11:54AM'], ['AMZN', '3 Stocks Immune to the Coronavirus', 'May-16-20', '11:15AM'], ['AMZN', 'The $4.8 Billion Reason Nobody Wants to Buy AMC Entertainment Just Yet', 'May-16-20', '11:11AM'], ['AMZN', 'If you could buy only one ecommerce stock, this would be it  and its not Amazon', 'May-16-20', '10:05AM'], ['AMZN', 'Justice Department, state attorneys general poised to hit Google with antitrust lawsuits: report', 'May-16-20', '09:22AM'], ['AMZN', 'China risk has reemerged in the U.S. stock market  heres how events may play out', 'May-16-20', '08:42AM'], ['AMZN', \"Amazon says 'appropriate' executive to be available, as U.S. panel calls on Bezos to testify\", 'May-15-20', '11:57PM'], ['AMZN', 'Amazon pledges to work with Congress on antitrust concerns', 'May-15-20', '11:45PM'], ['AMZN', \"Amazon says 'appropriate' executive to be available, as U.S. panel calls on Bezos to testify\", 'May-15-20', '09:46PM'], ['AMZN', \"Amazon says 'appropriate' exec available after U.S. House panel calls on CEO Bezos to testify\", 'May-15-20', '09:36PM'], ['AMZN', 'The S&P 500 Was Stopped in Its Tracks Last Week. Heres Why Another Drop Could Be in the Offing.', 'May-15-20', '08:45PM'], ['AMZN', 'Can Amazon Solve the Covid-19 Testing Challenge?', 'May-15-20', '08:15PM'], ['AMZN', \"J.C. Penney files for bankruptcy and its survival couldn't be more uncertain\", 'May-15-20', '07:29PM'], ['AMZN', 'Justice Department, State Attorneys General Poised to Hit Google With Antitrust Lawsuits', 'May-15-20', '06:58PM'], ['AMZN', 'U.S. funds rush to tech companies and battered energy stocks in Q1', 'May-15-20', '05:32PM'], ['AMZN', 'Amazon planning to reopen its French warehouses from May 19', 'May-15-20', '03:24PM'], ['AMZN', 'Amazon planning to reopen its French warehouses from May 19', 'May-15-20', '03:00PM'], ['AMZN', \"Urbem's 'Quality Strategy' Series: Cash Is King\", 'May-15-20', '02:28PM'], ['AMZN', 'Top Spiking Technical Analysis Articles This Week', 'May-15-20', '02:27PM'], ['AMZN', \"Netflix's European Customers to Begin Seeing Normal Download Speeds Again\", 'May-15-20', '02:19PM'], ['AMZN', 'Uber, Lyft essentially ignore US labor laws: employment expert', 'May-15-20', '02:03PM'], ['AMZN', 'Zacks Investment Ideas feature highlights: Zoom, Starbucks, Microsoft, Amazon and Facebook', 'May-15-20', '01:47PM'], ['AMZN', 'Cloud Computing ETFs to Gain on the New Normal Trends', 'May-15-20', '12:37PM'], ['AMZN', 'Intel CEO: Expectations for the second quarter are relatively strong', 'May-15-20', '12:16PM'], ['AMZN', 'Are FANMAG stocks in a bubble?', 'May-15-20', '11:57AM'], ['AMZN', 'U.S. Economy Adds to Grim Records, Signaling Yearslong Recovery', 'May-15-20', '11:49AM'], ['AMZN', 'Better Buy: Amazon vs. Best Buy', 'May-15-20', '11:30AM'], ['AMZN', \"Here's How Much Investing $1,000 In Amazon's IPO Would Be Worth Today\", 'May-15-20', '11:16AM'], ['AMZN', 'Zillow (Z) Plans to Do to Real Estate What Amazon (AMZN) Did to Retailing', 'May-15-20', '10:02AM'], ['AMZN', \"3 Stocks to Get a Boost From Big Techs' Internet Projects\", 'May-15-20', '09:53AM'], ['AMZN', \"RPT-U.S. employers wary of coronavirus 'immunity' tests as they move to reopen\", 'May-15-20', '09:44AM'], ['AMZN', 'How to Start Investing During a Pandemic', 'May-15-20', '09:31AM'], ['AMZN', 'Wayfairs Stock Soared During the Lockdown. It Could Tumble as the Economy Reopens.', 'May-15-20', '09:17AM'], ['AMZN', 'Retail sales crater a record 16.4% in April amid coronavirus lockdowns and spending slump', 'May-15-20', '09:17AM'], ['AMZN', 'Stock Picks: Lessons From Veeva, Nvidia, Netflix On How To Find The Best Stocks To Buy', 'May-15-20', '08:48AM'], ['AMZN', '2 Top E-Commerce Stocks To Buy in May', 'May-15-20', '08:45AM'], ['AMZN', 'Better Than Bezos? Three Stocks Keep Beating Amazon', 'May-15-20', '08:00AM'], ['AMZN', 'Could Plug Power Be a Millionaire-Maker Stock?', 'May-15-20', '07:31AM'], ['AMZN', \"3 Reasons I'm Hoarding Cash Instead of Buying Stocks Right Now\", 'May-15-20', '07:31AM'], ['AMZN', '3 No-Brainer Retail Stocks to Buy Now', 'May-15-20', '07:21AM'], ['AMZN', \"Lessons From a Quarter We'd Like to Forget\", 'May-15-20', '07:00AM'], ['AMZN', \"REFILE-U.S. employers wary of coronavirus 'immunity' tests as they move to reopen\", 'May-15-20', '07:00AM'], ['AMZN', 'Looking for the Next Amazon or Alibaba? Try the Budding Tech Companies in Latin America.', 'May-15-20', '07:00AM'], ['AMZN', 'WRAPUP 2-Coronavirus savages U.S. retail sales again in April', 'May-15-20', '06:00AM'], ['AMZN', 'Amazon To Manufacture Face Shields And Sell Them At Cost', 'May-15-20', '03:44AM'], ['AMZN', 'City Bulletin: Canary Wharf draws up back-to-work plans', 'May-15-20', '03:18AM'], ['AMZN', 'WRAPUP 1-Coronavirus likely hammered U.S. retail sales again in April', 'May-15-20', '12:00AM'], ['AMZN', 'Amazon Studios to Provide $1 Million for Jon & Vinnys Restaurant to Feed Angelenos in Need', 'May-14-20', '08:24PM'], ['AMZN', 'Texas Cases Jump; AMA Warns on Antibody Tests: Virus Update', 'May-14-20', '06:49PM'], ['AMZN', 'Massachusetts Attorney General Wants Data, Transparency From Amazon', 'May-14-20', '06:24PM'], ['AMZN', 'Amazons Jeff Bezos was trending on Twitter as users debated the possibility of him becoming a trillionaire', 'May-14-20', '05:37PM'], ['AMZN', 'Trump is right that rich guys sometimes bet against the stock market  but heres a fuller explanation', 'May-14-20', '04:07PM'], ['AAPL', 'Dow Jones Futures: Coronavirus Stock Market Rally Soars On Vaccine Hopes; Alibaba Clears Buy Point, Apple Near', 'May-18-20', '09:46PM'], ['AAPL', 'Apple Nears Trade Crosshairs Again; Wedbush Weighs In', 'May-18-20', '08:10PM'], ['AAPL', 'Dow rises more than 900 points, books its biggest daily advance in 6 weeks on coronavirus vaccine hope', 'May-18-20', '04:46PM'], ['AAPL', 'Apple Slowly Reopening Retail Stores As Covid-19 Threat Recedes', 'May-18-20', '04:31PM'], ['AAPL', '4 Dividend-Paying Companies That Recently Raised Payments', 'May-18-20', '04:30PM'], ['AAPL', 'Nike had lines of up to 40 people outside a store in an Atlanta mall over the weekend, analysts say', 'May-18-20', '03:08PM'], ['AAPL', 'Apple to Require Temperature Checks, Masks as It Opens More Stores', 'May-18-20', '02:11PM'], ['AAPL', 'Dow Jones News: Microsoft Partners With FedEx; Apple Stock Rises as Stores Slowly Reopen', 'May-18-20', '02:02PM'], ['AAPL', 'Microsoft Bets on Startups to Boost Growth', 'May-18-20', '01:52PM'], ['AAPL', 'What Investors Need to Know as the U.S. Targets Chip Sales to Huawei', 'May-18-20', '01:47PM'], ['AAPL', 'Wedgewood Partners Cuts Fastenal, Alphabet, Visa', 'May-18-20', '01:07PM'], ['AAPL', 'Edited Transcript of AAPL earnings conference call or presentation 30-Apr-20 9:00pm GMT', 'May-18-20', '12:20PM'], ['AAPL', \"One Simple Metric to Gauge Management's Capital Allocation Skill\", 'May-18-20', '12:19PM'], ['AAPL', 'These Companies Are Reopening This Week. What Theyre Doing to Protect Customers.', 'May-18-20', '12:07PM'], ['AAPL', \"I'm Sorry, Warren Buffett, I'm Not Buying Your Stock\", 'May-18-20', '11:55AM'], ['AAPL', 'U.S.-China Trade Spat Transcends 5G to Chipmaking Hegemony', 'May-18-20', '11:25AM'], ['AAPL', 'This Apple Supplier Could Turn Out to Be a Top 5G Play', 'May-18-20', '11:20AM'], ['AAPL', 'You Might Not Be Able to Stream HBO Max on Your Fire TV', 'May-18-20', '10:53AM'], ['AAPL', 'Apple Caught Once Again in U.S.-China Trade Spat. Covid-19 Raises the Stakes.', 'May-18-20', '10:46AM'], ['AAPL', 'Warren Buffett Stocks Ranked: The Berkshire Hathaway Portfolio', 'May-18-20', '10:30AM'], ['AAPL', 'The Berkshire Hathaway Portfolio: All 47 Buffett Stocks', 'May-18-20', '10:25AM'], ['AAPL', 'All 47 Warren Buffett Stocks Ranked: The Berkshire Hathaway Portfolio', 'May-18-20', '10:12AM'], ['AAPL', 'Apple Shares Gain as Tech Giant Moves to Reopen 25 U.S. Stores', 'May-18-20', '09:34AM'], ['AAPL', 'Every Warren Buffett Stock Ranked: The Berkshire Hathaway Portfolio', 'May-18-20', '09:02AM'], ['AAPL', 'Apple To Reopen More Than 25 U.S. Stores This Week', 'May-18-20', '09:01AM'], ['AAPL', 'US STOCKS-Wall St set to jump on stimulus, vaccine hopes', 'May-18-20', '08:38AM'], ['AAPL', 'All 30 Dow stocks rally premarket, as Boeing and Home Depot set to provide biggest point boosts', 'May-18-20', '08:19AM'], ['AAPL', 'Dow Jones Futures Signal Coronavirus Market Rally On Vaccine Hopes; Apple, Tesla Lead Tech Giants Near Buy Points', 'May-18-20', '08:15AM'], ['AAPL', 'New Hostilities Over Huawei Threaten Collateral Damage for U.S. Techs', 'May-18-20', '08:02AM'], ['AAPL', '3 Dividend-Paying Tech Stocks to Buy in May', 'May-18-20', '07:30AM'], ['AAPL', 'US STOCKS-Futures cheered by lifting of virus-related curbs', 'May-18-20', '07:01AM'], ['AAPL', 'Ubisoft Sues Google, Apple For Game Copyright Infringement', 'May-18-20', '03:31AM'], ['AAPL', 'Stocks - U.S. Futures Higher; More Stimulus Expected', 'May-18-20', '02:50AM'], ['AAPL', 'More Than 25 US Apple Stores To Reopen, 100 Now Open Around The World', 'May-18-20', '01:26AM'], ['AAPL', \"China semiconductor fab SMIC gets $2.2 bln investment from gov't funds amid global chip spat\", 'May-18-20', '12:54AM'], ['AAPL', 'Apple To Reopen 25 U.S. Stores, 12 in Canada This Week', 'May-17-20', '08:46PM'], ['AAPL', 'Apple reopening 25 more U.S. stores, will soon top 100 worldwide', 'May-17-20', '07:52PM'], ['AAPL', 'Earnings Reports for the Week of May 18-22 (BABA, HD, WMT)', 'May-17-20', '01:13PM'], ['AAPL', 'Taiwan Semiconductor Is Expanding Manufacturing in the U.S.', 'May-17-20', '12:00PM'], ['AAPL', 'Apple TV+ Is Getting a Quarantine Boost', 'May-17-20', '09:46AM'], ['AAPL', 'These Are the 5 Best Warren Buffett Stocks You Can Buy Right Now', 'May-17-20', '07:32AM'], ['AAPL', 'A Smart Pension Manager Sold Apple, GE, and Gilead Stock. Heres What It Bought.', 'May-17-20', '07:01AM'], ['AAPL', 'Apple is Said to Snap Up Startup NextVR For Virtual Reality Content; Top Analyst Sees Buying Opportunity', 'May-17-20', '03:02AM'], ['AAPL', 'Dud stock picks, bad industry bets, vast underperformance  its the end of the Warren Buffett era', 'May-16-20', '01:54PM'], ['AAPL', 'Wall Street sees plenty of upside for these downtrodden tech stocks', 'May-16-20', '01:45PM'], ['AAPL', 'Work-from-home productivity pickup has tech CEOs predicting many employees will never come back to the office', 'May-16-20', '12:44PM'], ['AAPL', 'J.C. Penney Bankruptcy May Not Buy Enough Time', 'May-16-20', '10:54AM'], ['AAPL', 'Justice Department, state attorneys general poised to hit Google with antitrust lawsuits: report', 'May-16-20', '09:22AM'], ['AAPL', 'Should I Buy Apple Stock?', 'May-16-20', '09:12AM'], ['AAPL', 'China risk has reemerged in the U.S. stock market  heres how events may play out', 'May-16-20', '08:42AM'], ['AAPL', 'Dow recovers to post modest gains despite  dismal U.S retail sales data, tensions with China', 'May-16-20', '08:41AM'], ['AAPL', 'Broken Ventilators Spark Push to End Limits on Who Can Fix Them', 'May-16-20', '06:00AM'], ['AAPL', 'We Were Just Starting to Emerge From the Covid-19 Crisis. Now China Tensions Are Flaring Up Again.', 'May-15-20', '09:02PM'], ['AAPL', 'The S&P 500 Was Stopped in Its Tracks Last Week. Heres Why Another Drop Could Be in the Offing.', 'May-15-20', '08:45PM'], ['AAPL', 'When Warren Buffett Sours\\xa0on Goldman Sachs, Time to Worry', 'May-15-20', '07:41PM'], ['AAPL', 'The U.S. and Chinas Next Battle Wont Be Won With Tariffs', 'May-15-20', '07:41PM'], ['AAPL', 'Aprils Retail Sales Collapse Bodes Poorly for Q2 GDP', 'May-15-20', '07:30PM'], ['AAPL', 'Justice Department, State Attorneys General Poised to Hit Google With Antitrust Lawsuits', 'May-15-20', '06:58PM'], ['AAPL', 'The Dow Rose 60 Points Because Tension With China Over Huawei Seems Like Old Times', 'May-15-20', '05:36PM'], ['AAPL', 'U.S. funds rush to tech companies and battered energy stocks in Q1', 'May-15-20', '05:32PM'], ['AAPL', \"Urbem's 'Quality Strategy' Series: Cash Is King\", 'May-15-20', '02:28PM'], ['AAPL', 'Top Spiking Technical Analysis Articles This Week', 'May-15-20', '02:27PM'], ['AAPL', 'US STOCKS-S&P 500, Dow edge lower on trade war fears, virus woes', 'May-15-20', '01:43PM'], ['AAPL', \"IMF's Georgieva urges tech companies to be responsible with pandemic windfalls\", 'May-15-20', '01:40PM'], ['AAPL', 'Dow Jones News: China Could Target Apple; Boeing Stock Sinks Despite Safety Initiative', 'May-15-20', '01:34PM'], ['AAPL', 'Bill Miller Says Amazon Could Double in Three Years', 'May-15-20', '01:15PM'], ['AAPL', 'Apple Buys Virtual-Reality Startup NextVR', 'May-15-20', '12:50PM'], ['AAPL', 'Cloud Computing ETFs to Gain on the New Normal Trends', 'May-15-20', '12:37PM'], ['AAPL', 'Apple to Reopen 10 of 17 Retail Stores in Italy Next Week', 'May-15-20', '12:35PM'], ['AAPL', 'Intel CEO: Expectations for the second quarter are relatively strong', 'May-15-20', '12:16PM'], ['AAPL', 'An Old Question Revisited: Is Value Investing Dead?', 'May-15-20', '12:16PM'], ['AAPL', 'Former Apple tech-education property launches data analysis tools for distance-learning', 'May-15-20', '12:00PM'], ['AAPL', 'Are FANMAG stocks in a bubble?', 'May-15-20', '11:57AM'], ['AAPL', 'US STOCKS-Wall St falls as trade war fears add to virus woes', 'May-15-20', '11:32AM'], ['AAPL', 'Dow Jones Stocks To Buy And Watch In May 2020; Microsoft Falls Below Latest Buy Point', 'May-15-20', '10:38AM'], ['AAPL', 'Mini Computers Industry Outlook: Coronavirus Mars Prospects', 'May-15-20', '10:31AM'], ['AAPL', 'Profits at iPhone Supplier Foxconn Crumble 90% in Q1', 'May-15-20', '10:07AM'], ['AAPL', \"Walgreens Boots, Intel share losses contribute to Dow's 100-point drop\", 'May-15-20', '09:45AM'], ['AAPL', 'US STOCKS-Wall St eyes weak open as trade war fears add to virus woes', 'May-15-20', '09:07AM'], ['AAPL', 'Stock Picks: Lessons From Veeva, Nvidia, Netflix On How To Find The Best Stocks To Buy', 'May-15-20', '08:48AM'], ['AAPL', \"China ready to put Apple, other U.S. companies in 'unreliable entity list'- Global Times\", 'May-15-20', '08:25AM'], ['AAPL', 'Foxconn Forecast Portends More Bad News for Apple', 'May-15-20', '08:22AM'], ['AAPL', 'The Dow Is Tumbling Because Tensions With China Are Heating Up', 'May-15-20', '08:22AM'], ['AAPL', 'Global Times editor tweets China could retaliate for Huawei move', 'May-15-20', '07:22AM'], ['AAPL', 'Can We Finally Stop Listening to Elon Musk Now?', 'May-15-20', '06:00AM'], ['AAPL', 'Oil Trades at Six-Week High on Supply Cuts and Demand Recovery', 'May-15-20', '05:55AM'], ['AAPL', 'IPhone Maker Foxconns Profit Gutted by Smartphone Slump', 'May-15-20', '05:28AM'], ['AAPL', \"Foxconn's Q1 profit tumbles almost 90% on coronavirus fallout\", 'May-15-20', '02:19AM'], ['AAPL', 'TSMC Plans $12 Billion U.S. Chip Plant in Victory for Trump', 'May-15-20', '01:28AM'], ['AAPL', \"Pompeo says TSMC's $12 bln investment to increase U.S. economic independence from China\", 'May-15-20', '12:46AM'], ['AAPL', 'Apple Confirms Acquisition Of Virtual Reality Startup NextVR', 'May-15-20', '12:00AM'], ['AAPL', 'TSMC to Build $12 Billion U.S. Chip Plant in Victory for Trump', 'May-14-20', '11:12PM'], ['AAPL', 'Apple reportedly buys virtual-reality startup NextVR', 'May-14-20', '07:51PM'], ['AAPL', 'Texas Cases Jump; AMA Warns on Antibody Tests: Virus Update', 'May-14-20', '06:49PM'], ['AAPL', 'Apple Helps Suppliers Reconfigure Factories to Limit Covid-19', 'May-14-20', '04:33PM'], ['AAPL', 'Trump is right that rich guys sometimes bet against the stock market  but heres a fuller explanation', 'May-14-20', '04:07PM'], ['AAPL', 'The Top 10 Technology Companies', 'May-14-20', '04:02PM'], ['AAPL', 'Apple Acquires NextVR, Setting Stage for Bigger Leap Into AR and VR', 'May-14-20', '03:03PM'], ['AAPL', \"Market is 'going to be lower for longer': Strategist\", 'May-14-20', '02:57PM'], ['AAPL', 'Apple Acquires Startup NextVR that Broadcasts VR Content', 'May-14-20', '02:03PM']]\n"
     ]
    }
   ],
   "source": [
    "total_company_data = []\n",
    "for page_name, news_table in html_pages.items():\n",
    "    total_company_data += get_hyperlinks_headlines(page_name, html_pages[page_name])\n",
    "print(total_company_data)"
   ]
  },
  {
   "cell_type": "code",
   "execution_count": 137,
   "metadata": {},
   "outputs": [],
   "source": [
    "columns = ['stock_name', 'headlines', 'date', 'time']\n",
    "total_company_data_frame = pd.DataFrame(total_company_data, columns = columns)"
   ]
  },
  {
   "cell_type": "code",
   "execution_count": 149,
   "metadata": {},
   "outputs": [
    {
     "data": {
      "text/html": [
       "<div>\n",
       "<style scoped>\n",
       "    .dataframe tbody tr th:only-of-type {\n",
       "        vertical-align: middle;\n",
       "    }\n",
       "\n",
       "    .dataframe tbody tr th {\n",
       "        vertical-align: top;\n",
       "    }\n",
       "\n",
       "    .dataframe thead th {\n",
       "        text-align: right;\n",
       "    }\n",
       "</style>\n",
       "<table border=\"1\" class=\"dataframe\">\n",
       "  <thead>\n",
       "    <tr style=\"text-align: right;\">\n",
       "      <th></th>\n",
       "      <th>stock_name</th>\n",
       "      <th>headlines</th>\n",
       "      <th>date</th>\n",
       "      <th>time</th>\n",
       "    </tr>\n",
       "  </thead>\n",
       "  <tbody>\n",
       "    <tr>\n",
       "      <th>0</th>\n",
       "      <td>AMZN</td>\n",
       "      <td>Amazon to Open New Warehouse in New York, Hire...</td>\n",
       "      <td>May-18-20</td>\n",
       "      <td>05:36PM</td>\n",
       "    </tr>\n",
       "    <tr>\n",
       "      <th>1</th>\n",
       "      <td>AMZN</td>\n",
       "      <td>Mario Gabelli Adds to Amazon Holding in 1st Qu...</td>\n",
       "      <td>May-18-20</td>\n",
       "      <td>05:27PM</td>\n",
       "    </tr>\n",
       "    <tr>\n",
       "      <th>2</th>\n",
       "      <td>AMZN</td>\n",
       "      <td>FedEx Pops On Alliance with Microsoft, In Chal...</td>\n",
       "      <td>May-18-20</td>\n",
       "      <td>04:10PM</td>\n",
       "    </tr>\n",
       "    <tr>\n",
       "      <th>3</th>\n",
       "      <td>AMZN</td>\n",
       "      <td>Warren Buffett, Top Funds Dumped These Stocks ...</td>\n",
       "      <td>May-18-20</td>\n",
       "      <td>04:03PM</td>\n",
       "    </tr>\n",
       "    <tr>\n",
       "      <th>4</th>\n",
       "      <td>AMZN</td>\n",
       "      <td>The best bet might be to stay on the sidelines...</td>\n",
       "      <td>May-18-20</td>\n",
       "      <td>03:57PM</td>\n",
       "    </tr>\n",
       "    <tr>\n",
       "      <th>...</th>\n",
       "      <td>...</td>\n",
       "      <td>...</td>\n",
       "      <td>...</td>\n",
       "      <td>...</td>\n",
       "    </tr>\n",
       "    <tr>\n",
       "      <th>195</th>\n",
       "      <td>AAPL</td>\n",
       "      <td>Trump is right that rich guys sometimes bet ag...</td>\n",
       "      <td>May-14-20</td>\n",
       "      <td>04:07PM</td>\n",
       "    </tr>\n",
       "    <tr>\n",
       "      <th>196</th>\n",
       "      <td>AAPL</td>\n",
       "      <td>The Top 10 Technology Companies</td>\n",
       "      <td>May-14-20</td>\n",
       "      <td>04:02PM</td>\n",
       "    </tr>\n",
       "    <tr>\n",
       "      <th>197</th>\n",
       "      <td>AAPL</td>\n",
       "      <td>Apple Acquires NextVR, Setting Stage for Bigge...</td>\n",
       "      <td>May-14-20</td>\n",
       "      <td>03:03PM</td>\n",
       "    </tr>\n",
       "    <tr>\n",
       "      <th>198</th>\n",
       "      <td>AAPL</td>\n",
       "      <td>Market is 'going to be lower for longer': Stra...</td>\n",
       "      <td>May-14-20</td>\n",
       "      <td>02:57PM</td>\n",
       "    </tr>\n",
       "    <tr>\n",
       "      <th>199</th>\n",
       "      <td>AAPL</td>\n",
       "      <td>Apple Acquires Startup NextVR that Broadcasts ...</td>\n",
       "      <td>May-14-20</td>\n",
       "      <td>02:03PM</td>\n",
       "    </tr>\n",
       "  </tbody>\n",
       "</table>\n",
       "<p>200 rows × 4 columns</p>\n",
       "</div>"
      ],
      "text/plain": [
       "    stock_name                                          headlines       date  \\\n",
       "0         AMZN  Amazon to Open New Warehouse in New York, Hire...  May-18-20   \n",
       "1         AMZN  Mario Gabelli Adds to Amazon Holding in 1st Qu...  May-18-20   \n",
       "2         AMZN  FedEx Pops On Alliance with Microsoft, In Chal...  May-18-20   \n",
       "3         AMZN  Warren Buffett, Top Funds Dumped These Stocks ...  May-18-20   \n",
       "4         AMZN  The best bet might be to stay on the sidelines...  May-18-20   \n",
       "..         ...                                                ...        ...   \n",
       "195       AAPL  Trump is right that rich guys sometimes bet ag...  May-14-20   \n",
       "196       AAPL                    The Top 10 Technology Companies  May-14-20   \n",
       "197       AAPL  Apple Acquires NextVR, Setting Stage for Bigge...  May-14-20   \n",
       "198       AAPL  Market is 'going to be lower for longer': Stra...  May-14-20   \n",
       "199       AAPL  Apple Acquires Startup NextVR that Broadcasts ...  May-14-20   \n",
       "\n",
       "        time  \n",
       "0    05:36PM  \n",
       "1    05:27PM  \n",
       "2    04:10PM  \n",
       "3    04:03PM  \n",
       "4    03:57PM  \n",
       "..       ...  \n",
       "195  04:07PM  \n",
       "196  04:02PM  \n",
       "197  03:03PM  \n",
       "198  02:57PM  \n",
       "199  02:03PM  \n",
       "\n",
       "[200 rows x 4 columns]"
      ]
     },
     "execution_count": 149,
     "metadata": {},
     "output_type": "execute_result"
    }
   ],
   "source": [
    "total_company_data_frame"
   ]
  },
  {
   "cell_type": "code",
   "execution_count": null,
   "metadata": {},
   "outputs": [],
   "source": []
  }
 ],
 "metadata": {
  "kernelspec": {
   "display_name": "Python 3",
   "language": "python",
   "name": "python3"
  },
  "language_info": {
   "codemirror_mode": {
    "name": "ipython",
    "version": 3
   },
   "file_extension": ".py",
   "mimetype": "text/x-python",
   "name": "python",
   "nbconvert_exporter": "python",
   "pygments_lexer": "ipython3",
   "version": "3.8.2"
  }
 },
 "nbformat": 4,
 "nbformat_minor": 2
}
